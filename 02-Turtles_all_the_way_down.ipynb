{
 "cells": [
  {
   "cell_type": "markdown",
   "metadata": {},
   "source": [
    "# CSC280, Introduction to Computer Science I\n",
    "# Prof. Adam C. Knapp\n",
    "# `for turtles in range(`$\\infty$`):`\n",
    "<img src=\"https://upload.wikimedia.org/wikipedia/commons/4/47/River_terrapin.jpg\" alt=\"Drawing\" style=\"width: 200px;\"/>\n",
    "\n",
    "Turtle graphics are a fun way to learn about CS concepts! Python has two main turtle graphics packages. One of them comes bundled with Python, but can't be used through the jupyter notebook. The one we will be using is called [ipyturtle](https://pypi.python.org/pypi/ipyturtle/0.2.0). The code below loads the ipyturtle _library_ and the next creates a turtle. Run both and you should see a frame appear on the right with a triangle. That's your turtle. Later we'll see how to create a _different_ turtle in a cell's output area."
   ]
  },
  {
   "cell_type": "code",
   "execution_count": 14,
   "metadata": {},
   "outputs": [],
   "source": [
    "# import the turtle library\n",
    "from ipyturtle import Turtle"
   ]
  },
  {
   "cell_type": "code",
   "execution_count": null,
   "metadata": {},
   "outputs": [],
   "source": [
    "# create a new Turtle in a frame to the right\n",
    "t = Turtle()\n",
    "t"
   ]
  },
  {
   "cell_type": "markdown",
   "metadata": {},
   "source": [
    "The turtle, `t`, can be given several different commands. Some examples:\n",
    "```\n",
    "t.forward(100)\n",
    "t.back(10)\n",
    "t.right(90)\n",
    "t.left(45)\n",
    "```\n",
    "These are \"method calls\", which we will go into later. Inside the parentheses, you see some numbers which are called _parameters_. Here, they tell the turtle how far to go forward or back, left or right. (Here left and right turns are in degrees and are relative to the turtle's current heading.)\n",
    "\n",
    "**Now let's draw a square.** You might want to start with the command `t.reset()` to get the turtle back to its original position. (Useful if we have to make more than one attempt.)"
   ]
  },
  {
   "cell_type": "code",
   "execution_count": null,
   "metadata": {},
   "outputs": [],
   "source": []
  },
  {
   "cell_type": "markdown",
   "metadata": {},
   "source": [
    "Your probably does the same thing several times. (If it doesn't, can you simplify your code so that it does?) Doing the same thing over and over again is one of the things that computers do best! (And possibly what humans do worst...) So, naturally, we want to find a way of telling Python to do the same thing, repeatedly, without having to copy-paste the code. The construction we want is called a **for-loop**. \n",
    "\n",
    "For example, if we want to print the numbers 1 to 10:\n",
    "```\n",
    "for n in range(10):\n",
    "    print(n)\n",
    "```\n",
    "Notice how the `print` statement is indented. That's how Python knows what part to repeat; you need to make sure that the part which is repeated is indented _and indented the same amount_.\n",
    "\n",
    "**Try it out.**"
   ]
  },
  {
   "cell_type": "code",
   "execution_count": null,
   "metadata": {},
   "outputs": [],
   "source": []
  },
  {
   "cell_type": "markdown",
   "metadata": {},
   "source": [
    "Uh... or maybe not. As it turns out, `range(10)` gives ten things, but they aren't `1...10`. Instead, they are `0...9`. This is an example of something called *zero based indexing*. You might not be used to it right now but, believe me, this is _The Right Way To Do It_.\n",
    "\n",
    "**Change the code above to do what we wanted.** i.e. print the numbers from 1 to 10.\n",
    "\n",
    "By the way, I can think of two ways to do what we want. One should be obvious. You should read the [Python documentation](https://docs.python.org/3/library/stdtypes.html#range) to figure out the second way."
   ]
  },
  {
   "cell_type": "code",
   "execution_count": null,
   "metadata": {},
   "outputs": [],
   "source": []
  },
  {
   "cell_type": "markdown",
   "metadata": {},
   "source": [
    "Now, let's **rewrite our square drawing code to use a for-loop.**\n",
    "\n",
    "Think about\n",
    "* what should be repeated and\n",
    "* how often it should be repeated."
   ]
  },
  {
   "cell_type": "code",
   "execution_count": null,
   "metadata": {},
   "outputs": [],
   "source": []
  },
  {
   "cell_type": "markdown",
   "metadata": {},
   "source": [
    "Next, we are going to make a few more shapes. You might want to have separate turtles for this. See the code below."
   ]
  },
  {
   "cell_type": "code",
   "execution_count": 17,
   "metadata": {},
   "outputs": [
    {
     "data": {
      "application/vnd.jupyter.widget-view+json": {
       "model_id": "400e97a6fe5c4ed889ae814a72facf68",
       "version_major": 2,
       "version_minor": 0
      },
      "text/html": [
       "<p>Failed to display Jupyter Widget of type <code>Turtle</code>.</p>\n",
       "<p>\n",
       "  If you're reading this message in the Jupyter Notebook or JupyterLab Notebook, it may mean\n",
       "  that the widgets JavaScript is still loading. If this message persists, it\n",
       "  likely means that the widgets JavaScript library is either not installed or\n",
       "  not enabled. See the <a href=\"https://ipywidgets.readthedocs.io/en/stable/user_install.html\">Jupyter\n",
       "  Widgets Documentation</a> for setup instructions.\n",
       "</p>\n",
       "<p>\n",
       "  If you're reading this message in another frontend (for example, a static\n",
       "  rendering on GitHub or <a href=\"https://nbviewer.jupyter.org/\">NBViewer</a>),\n",
       "  it may mean that your frontend doesn't currently support widgets.\n",
       "</p>\n"
      ],
      "text/plain": [
       "Turtle()"
      ]
     },
     "metadata": {},
     "output_type": "display_data"
    }
   ],
   "source": [
    "# create a turtle in the output area\n",
    "t2 = Turtle(fixed=False, width=320, height=240)\n",
    "t2"
   ]
  },
  {
   "cell_type": "code",
   "execution_count": null,
   "metadata": {},
   "outputs": [],
   "source": [
    "# move the turtle here\n",
    "t2.forward(100)"
   ]
  },
  {
   "cell_type": "markdown",
   "metadata": {},
   "source": [
    "Draw a regular triangle. (If you don't remember, _regular_ means that all angles and lengths are the same.)"
   ]
  },
  {
   "cell_type": "code",
   "execution_count": null,
   "metadata": {},
   "outputs": [],
   "source": []
  },
  {
   "cell_type": "code",
   "execution_count": null,
   "metadata": {},
   "outputs": [],
   "source": []
  },
  {
   "cell_type": "markdown",
   "metadata": {},
   "source": [
    "Draw a (regular) pentagon."
   ]
  },
  {
   "cell_type": "code",
   "execution_count": null,
   "metadata": {},
   "outputs": [],
   "source": []
  },
  {
   "cell_type": "code",
   "execution_count": null,
   "metadata": {},
   "outputs": [],
   "source": []
  },
  {
   "cell_type": "markdown",
   "metadata": {},
   "source": [
    "Draw a (regular) octagon."
   ]
  },
  {
   "cell_type": "code",
   "execution_count": null,
   "metadata": {},
   "outputs": [],
   "source": []
  },
  {
   "cell_type": "code",
   "execution_count": null,
   "metadata": {},
   "outputs": [],
   "source": []
  },
  {
   "cell_type": "markdown",
   "metadata": {},
   "source": [
    "Draw a (regular) nonagon."
   ]
  },
  {
   "cell_type": "code",
   "execution_count": null,
   "metadata": {},
   "outputs": [],
   "source": []
  },
  {
   "cell_type": "code",
   "execution_count": null,
   "metadata": {},
   "outputs": [],
   "source": []
  },
  {
   "cell_type": "markdown",
   "metadata": {},
   "source": [
    "Draw a (regular) decagon."
   ]
  },
  {
   "cell_type": "code",
   "execution_count": null,
   "metadata": {},
   "outputs": [],
   "source": []
  },
  {
   "cell_type": "code",
   "execution_count": null,
   "metadata": {},
   "outputs": [],
   "source": []
  },
  {
   "cell_type": "markdown",
   "metadata": {},
   "source": [
    "You might see a pattern at this point. Draw a circle. (An approximate cirlce, anyway.)"
   ]
  },
  {
   "cell_type": "code",
   "execution_count": null,
   "metadata": {},
   "outputs": [],
   "source": []
  },
  {
   "cell_type": "code",
   "execution_count": null,
   "metadata": {},
   "outputs": [],
   "source": []
  },
  {
   "cell_type": "markdown",
   "metadata": {},
   "source": [
    "One way to draw a spiral is based on how you just drew a circle. The key difference is that\n",
    "- you rotate around more than once and\n",
    "- each movement gets a little smaller each time\n",
    "\n",
    "**Now draw a spiral!** Think about how you might keep track of how much you will move each step. There is more than one interesting way to do it! How many can you think of? Are the spirals you get different?\n",
    "\n",
    "Note: When I did this, the program ran too fast for the web browser interface. If this happens to you, use\n",
    "```\n",
    "from time import sleep\n",
    "```\n",
    "and then place `sleep(0.01)` somewhere inside your loop. This tells Python to wait 0.01 seconds before continuing.\n"
   ]
  },
  {
   "cell_type": "code",
   "execution_count": 27,
   "metadata": {},
   "outputs": [
    {
     "data": {
      "application/vnd.jupyter.widget-view+json": {
       "model_id": "69ff784fc9a8431c93506b4716313423",
       "version_major": 2,
       "version_minor": 0
      },
      "text/html": [
       "<p>Failed to display Jupyter Widget of type <code>Turtle</code>.</p>\n",
       "<p>\n",
       "  If you're reading this message in the Jupyter Notebook or JupyterLab Notebook, it may mean\n",
       "  that the widgets JavaScript is still loading. If this message persists, it\n",
       "  likely means that the widgets JavaScript library is either not installed or\n",
       "  not enabled. See the <a href=\"https://ipywidgets.readthedocs.io/en/stable/user_install.html\">Jupyter\n",
       "  Widgets Documentation</a> for setup instructions.\n",
       "</p>\n",
       "<p>\n",
       "  If you're reading this message in another frontend (for example, a static\n",
       "  rendering on GitHub or <a href=\"https://nbviewer.jupyter.org/\">NBViewer</a>),\n",
       "  it may mean that your frontend doesn't currently support widgets.\n",
       "</p>\n"
      ],
      "text/plain": [
       "Turtle()"
      ]
     },
     "metadata": {},
     "output_type": "display_data"
    }
   ],
   "source": []
  },
  {
   "cell_type": "code",
   "execution_count": 36,
   "metadata": {},
   "outputs": [],
   "source": []
  },
  {
   "cell_type": "markdown",
   "metadata": {},
   "source": [
    "Let's take a break to do some artwork. I'd like to see what you can do! (If you aren't feeling creative: Draw a smiley face.)\n",
    "\n",
    "The code for your picture should include a for-loop.\n",
    "\n",
    "Oh, and if you need to \"pick up the pen\" to draw seperate parts, there are `t.penup()` and `t.pendown()` commands. There are also `t.hideturtle()` and `t.showturtle()`. "
   ]
  },
  {
   "cell_type": "code",
   "execution_count": null,
   "metadata": {},
   "outputs": [],
   "source": []
  },
  {
   "cell_type": "code",
   "execution_count": null,
   "metadata": {},
   "outputs": [],
   "source": []
  },
  {
   "cell_type": "code",
   "execution_count": null,
   "metadata": {},
   "outputs": [],
   "source": []
  },
  {
   "cell_type": "code",
   "execution_count": null,
   "metadata": {},
   "outputs": [],
   "source": []
  },
  {
   "cell_type": "code",
   "execution_count": null,
   "metadata": {},
   "outputs": [],
   "source": []
  }
 ],
 "metadata": {
  "kernelspec": {
   "display_name": "Python 3",
   "language": "python",
   "name": "python3"
  },
  "language_info": {
   "codemirror_mode": {
    "name": "ipython",
    "version": 3
   },
   "file_extension": ".py",
   "mimetype": "text/x-python",
   "name": "python",
   "nbconvert_exporter": "python",
   "pygments_lexer": "ipython3",
   "version": "3.6.4"
  }
 },
 "nbformat": 4,
 "nbformat_minor": 2
}
