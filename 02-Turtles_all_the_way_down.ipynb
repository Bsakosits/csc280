{
 "cells": [
  {
   "cell_type": "markdown",
   "metadata": {},
   "source": [
    "# CSC280, Introduction to Computer Science I\n",
    "# Prof. A. C. Knapp\n",
    "# `for turtles in range(`$\\infty$`):`\n",
    "<img src=\"https://upload.wikimedia.org/wikipedia/commons/4/47/River_terrapin.jpg\" alt=\"Drawing\" style=\"width: 200px;\"/>\n",
    "\n",
    "Turtle graphics are a fun way to learn about CS concepts! Python includes a [turtle](https://docs.python.org/3/library/turtle.html) graphics packages as one of the standard libraries. The code below loads the turtle _library_ and the next cell sets up a screen to draw on. Run both and you should see a window appear with a triangle. That's your turtle. Later we'll see how to create a _different_ turtle.\n",
    "\n",
    "*Note*: This will only work on a local (running on your computer) jupyter notebook. If you want to do turtle graphics using a notebook on a remote computer, there is similar library: [ipyturtle](https://pypi.python.org/pypi/ipyturtle/0.2.0) which runs inside the notebook. However, the interface is _a little_ different."
   ]
  },
  {
   "cell_type": "code",
   "execution_count": 1,
   "metadata": {},
   "outputs": [],
   "source": [
    "# import the turtle library\n",
    "from turtle import *"
   ]
  },
  {
   "cell_type": "code",
   "execution_count": 2,
   "metadata": {},
   "outputs": [],
   "source": [
    "# set up a new screen with width: 320 and height: 300\n",
    "setup(320,300)"
   ]
  },
  {
   "cell_type": "markdown",
   "metadata": {},
   "source": [
    "The turtle can be given several different commands. Some examples:\n",
    "```\n",
    "forward(100)\n",
    "back(10)\n",
    "right(90)\n",
    "left(45)\n",
    "```\n",
    "These are \"method calls\", which we will go into later. Inside the parentheses, you see some numbers which are called _parameters_. Here, they tell the turtle how far to go forward or back, left or right. (Here left and right turns are in degrees and are relative to the turtle's _current_ heading.)\n",
    "\n",
    "**Now let's draw a square.** You might want to start with the command `reset()` to get the turtle back to its original position. (Useful if we have to make more than one attempt.)"
   ]
  },
  {
   "cell_type": "code",
   "execution_count": null,
   "metadata": {},
   "outputs": [],
   "source": []
  },
  {
   "cell_type": "markdown",
   "metadata": {},
   "source": [
    "Your probably does the same thing several times. (If it doesn't, can you simplify your code so that it does?) Doing the same thing over and over again is one of the things that computers do best! (And possibly what humans do worst...) So, naturally, we want to find a way of telling Python to do the same thing, repeatedly, without having to copy-paste the code. The construction we want is called a **for-loop**. \n",
    "\n",
    "For example, if we want to print the numbers 1 to 10:\n",
    "```\n",
    "for n in range(10):\n",
    "    print(n)\n",
    "```\n",
    "Notice how the `print` statement is indented. That's how Python knows what part to repeat; you need to make sure that the part which is repeated is indented _and indented the same amount_.\n",
    "\n",
    "**Try it out.**"
   ]
  },
  {
   "cell_type": "code",
   "execution_count": null,
   "metadata": {},
   "outputs": [],
   "source": []
  },
  {
   "cell_type": "markdown",
   "metadata": {},
   "source": [
    "Uh... or maybe not. As it turns out, `range(10)` gives ten things, but they aren't `1...10`. Instead, they are `0...9`. This is an example of something called *zero based indexing*. You might not be used to it right now but, believe me, this is _The Right Way To Do It_.\n",
    "\n",
    "**Change the code above to do what we wanted.** i.e. print the numbers from 1 to 10.\n",
    "\n",
    "By the way, I can think of two ways to do what we want. One should be obvious. You should read the [Python documentation](https://docs.python.org/3/library/stdtypes.html#range) to figure out the second way."
   ]
  },
  {
   "cell_type": "code",
   "execution_count": null,
   "metadata": {},
   "outputs": [],
   "source": []
  },
  {
   "cell_type": "markdown",
   "metadata": {},
   "source": [
    "Now, let's **rewrite our square drawing code to use a for-loop.**\n",
    "\n",
    "Think about\n",
    "* what should be repeated and\n",
    "* how often it should be repeated."
   ]
  },
  {
   "cell_type": "code",
   "execution_count": null,
   "metadata": {},
   "outputs": [],
   "source": []
  },
  {
   "cell_type": "markdown",
   "metadata": {},
   "source": [
    "Next, we are going to make a few more shapes. Remember to call `reset()` at the beginning!\n",
    "\n",
    "Draw a regular triangle. (If you don't remember, _regular_ means that all angles and lengths are the same.)"
   ]
  },
  {
   "cell_type": "code",
   "execution_count": null,
   "metadata": {},
   "outputs": [],
   "source": []
  },
  {
   "cell_type": "code",
   "execution_count": null,
   "metadata": {},
   "outputs": [],
   "source": []
  },
  {
   "cell_type": "markdown",
   "metadata": {},
   "source": [
    "Draw a (regular) pentagon."
   ]
  },
  {
   "cell_type": "code",
   "execution_count": null,
   "metadata": {},
   "outputs": [],
   "source": []
  },
  {
   "cell_type": "code",
   "execution_count": null,
   "metadata": {},
   "outputs": [],
   "source": []
  },
  {
   "cell_type": "markdown",
   "metadata": {},
   "source": [
    "Draw a (regular) octagon."
   ]
  },
  {
   "cell_type": "code",
   "execution_count": null,
   "metadata": {},
   "outputs": [],
   "source": []
  },
  {
   "cell_type": "code",
   "execution_count": null,
   "metadata": {},
   "outputs": [],
   "source": []
  },
  {
   "cell_type": "markdown",
   "metadata": {},
   "source": [
    "Draw a (regular) nonagon."
   ]
  },
  {
   "cell_type": "code",
   "execution_count": null,
   "metadata": {},
   "outputs": [],
   "source": []
  },
  {
   "cell_type": "code",
   "execution_count": null,
   "metadata": {},
   "outputs": [],
   "source": []
  },
  {
   "cell_type": "markdown",
   "metadata": {},
   "source": [
    "Draw a (regular) decagon."
   ]
  },
  {
   "cell_type": "code",
   "execution_count": null,
   "metadata": {},
   "outputs": [],
   "source": []
  },
  {
   "cell_type": "code",
   "execution_count": null,
   "metadata": {},
   "outputs": [],
   "source": []
  },
  {
   "cell_type": "markdown",
   "metadata": {},
   "source": [
    "You might see a pattern at this point. Draw a circle. (An approximate cirlce, anyway.)"
   ]
  },
  {
   "cell_type": "code",
   "execution_count": null,
   "metadata": {},
   "outputs": [],
   "source": []
  },
  {
   "cell_type": "code",
   "execution_count": null,
   "metadata": {},
   "outputs": [],
   "source": []
  },
  {
   "cell_type": "markdown",
   "metadata": {},
   "source": [
    "One way to draw a spiral is based on how you just drew a circle. The key difference is that\n",
    "- you rotate around more than once and\n",
    "- each movement gets a little smaller each time\n",
    "\n",
    "**Now draw a spiral!** Think about how you might keep track of how much you will move each step. There is more than one interesting way to do it! How many can you think of? Are the spirals you get different?\n",
    "\n",
    "Note: If your turtle moves too fast or too slow, try using the `speed(n)` function. The parameter `n` can be one of `\"slowest\"`, `\"slow\"`, `\"normal\"`, `\"fast\"`, or `\"fastest\"`.\n"
   ]
  },
  {
   "cell_type": "code",
   "execution_count": null,
   "metadata": {},
   "outputs": [],
   "source": [
    "reset()\n",
    "speed(\"fastest\")\n",
    "num_rots = 4\n",
    "step_size = 2\n",
    "for n in range(360*num_rots):\n",
    "    rt(1)\n",
    "    fd(step_size)\n",
    "    step_size = step_size * 0.9999"
   ]
  },
  {
   "cell_type": "code",
   "execution_count": null,
   "metadata": {},
   "outputs": [],
   "source": []
  },
  {
   "cell_type": "markdown",
   "metadata": {},
   "source": [
    "Let's take a break to do some artwork. I'd like to see what you can do! (If you aren't feeling creative: Draw a smiley face.)\n",
    "\n",
    "The code for your picture should include a for-loop.\n",
    "\n",
    "Oh, and if you need to \"pick up the pen\" to draw seperate parts, there are `penup()` and `pendown()` commands. There are also `hideturtle()` and `showturtle()`. \n",
    "\n",
    "There are also commands to set the color and fill polygons see the [documentation](https://docs.python.org/3/library/turtle.html) for more details."
   ]
  },
  {
   "cell_type": "code",
   "execution_count": null,
   "metadata": {},
   "outputs": [],
   "source": []
  },
  {
   "cell_type": "code",
   "execution_count": null,
   "metadata": {},
   "outputs": [],
   "source": []
  },
  {
   "cell_type": "code",
   "execution_count": null,
   "metadata": {},
   "outputs": [],
   "source": []
  },
  {
   "cell_type": "code",
   "execution_count": null,
   "metadata": {},
   "outputs": [],
   "source": []
  },
  {
   "cell_type": "markdown",
   "metadata": {},
   "source": [
    "What if you want to save your art? Well, we can use a method from the underlying widget set for that.\n",
    "\n",
    "It gives you an `eps` file (appears in the same directory as the notebook) which can be converted to `png` or `gif` by a program like \"Gimp\"."
   ]
  },
  {
   "cell_type": "code",
   "execution_count": 3,
   "metadata": {},
   "outputs": [
    {
     "data": {
      "text/plain": [
       "'0 139 moveto\\n-9 144 lineto\\n-7 139 lineto\\n-9 134 lineto\\n0 139 lineto\\n0.000 0.000 0.000 setrgbcolor AdjustColor\\neofill\\n0 139 moveto\\n-9 144 lineto\\n-7 139 lineto\\n-9 134 lineto\\n0 139 lineto\\n1 setlinejoin 1 setlinecap\\n1 setlinewidth\\n[] 0 setdash\\n0.000 0.000 0.000 setrgbcolor AdjustColor\\nstroke\\n'"
      ]
     },
     "execution_count": 3,
     "metadata": {},
     "output_type": "execute_result"
    }
   ],
   "source": [
    "# save to an Embedded PostScript file.\n",
    "getscreen().getcanvas().postscript(file=\"pretty-picture.eps\")"
   ]
  },
  {
   "cell_type": "markdown",
   "metadata": {},
   "source": [
    "What happens if we let the turtle wander around randomly? This goes by the name of \"Drunkard's Walk\" for good reason.\n",
    "\n",
    "We will need some source of randomness here; Python's [`random` module](https://docs.python.org/3/library/random.html) gives it to us. In particular, we want the method `random()` which returns a floating point number which is in the interval $[0,1)$. We can take that number and multiply it by 360 to get a random angle!\n",
    "\n",
    "Write a loop that runs 1000 times. In each iteration, turn the turtle in a random direction and move forward. (Move at least 10 steps so you can see it.)"
   ]
  },
  {
   "cell_type": "code",
   "execution_count": 6,
   "metadata": {},
   "outputs": [],
   "source": [
    "# we are importing the method random from the module random\n",
    "from random import random"
   ]
  },
  {
   "cell_type": "code",
   "execution_count": 7,
   "metadata": {},
   "outputs": [],
   "source": []
  },
  {
   "cell_type": "code",
   "execution_count": null,
   "metadata": {},
   "outputs": [],
   "source": []
  }
 ],
 "metadata": {
  "kernelspec": {
   "display_name": "Python 3",
   "language": "python",
   "name": "python3"
  },
  "language_info": {
   "codemirror_mode": {
    "name": "ipython",
    "version": 3
   },
   "file_extension": ".py",
   "mimetype": "text/x-python",
   "name": "python",
   "nbconvert_exporter": "python",
   "pygments_lexer": "ipython3",
   "version": "3.7.2"
  }
 },
 "nbformat": 4,
 "nbformat_minor": 2
}
