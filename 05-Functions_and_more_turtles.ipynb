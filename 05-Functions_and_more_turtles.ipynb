{
 "cells": [
  {
   "cell_type": "markdown",
   "metadata": {},
   "source": [
    "# CSC280, Introduction to Computer Science I\n",
    "# Prof. Adam C. Knapp\n",
    "# Functions and more turtles\n",
    "\n",
    "Time once again for turtles! This time, we'll use turtles to explore procedures. (By the way, I and others may sometimes call these functions. There is a technical distinction which isn't in the scope of what we are dealing with right now.)\n",
    "\n",
    "Start out by importing the turtle library."
   ]
  },
  {
   "cell_type": "code",
   "execution_count": 1,
   "metadata": {},
   "outputs": [],
   "source": [
    "# import the turtle library\n",
    "from ipyturtle import Turtle"
   ]
  },
  {
   "cell_type": "markdown",
   "metadata": {},
   "source": [
    "Now let's create a turtle and make it visible."
   ]
  },
  {
   "cell_type": "code",
   "execution_count": 2,
   "metadata": {},
   "outputs": [
    {
     "data": {
      "application/vnd.jupyter.widget-view+json": {
       "model_id": "babbc2e5f144417f8f43455dea56dc0a",
       "version_major": 2,
       "version_minor": 0
      },
      "text/html": [
       "<p>Failed to display Jupyter Widget of type <code>Turtle</code>.</p>\n",
       "<p>\n",
       "  If you're reading this message in the Jupyter Notebook or JupyterLab Notebook, it may mean\n",
       "  that the widgets JavaScript is still loading. If this message persists, it\n",
       "  likely means that the widgets JavaScript library is either not installed or\n",
       "  not enabled. See the <a href=\"https://ipywidgets.readthedocs.io/en/stable/user_install.html\">Jupyter\n",
       "  Widgets Documentation</a> for setup instructions.\n",
       "</p>\n",
       "<p>\n",
       "  If you're reading this message in another frontend (for example, a static\n",
       "  rendering on GitHub or <a href=\"https://nbviewer.jupyter.org/\">NBViewer</a>),\n",
       "  it may mean that your frontend doesn't currently support widgets.\n",
       "</p>\n"
      ],
      "text/plain": [
       "Turtle()"
      ]
     },
     "metadata": {},
     "output_type": "display_data"
    }
   ],
   "source": [
    "# create a turtle in the output area\n",
    "t1 = Turtle(fixed=False, width=320, height=240)\n",
    "t1"
   ]
  },
  {
   "cell_type": "markdown",
   "metadata": {},
   "source": [
    "Remember talk about procedures in class? A procedure definition looks something like this:\n",
    "```\n",
    "def function_name(arg1,arg2):\n",
    "    do a thing\n",
    "    do another thing\n",
    "    do some more things\n",
    "    return something\n",
    "```\n",
    "Having a return statement at the end is optional. \n",
    "\n",
    "Let's design some procedure. Our first one should draw a square. What do you need to know in order to draw a square with a turtle? You need two things:\n",
    "- which turtle should draw it\n",
    "- how long the sides should be\n",
    "\n",
    "Should our procedure return anything? No, drawing a square doesn't compute some value to be used later; it just tells the turtle to do things.\n",
    "\n",
    "So what should a procedure `square` look like? Something like this:\n",
    "```\n",
    "def square(turtle,side_len):\n",
    "    do things\n",
    "```\n",
    "**Write `square`**. Then call that procedure on the turtle above via running `square(t1,100)`"
   ]
  },
  {
   "cell_type": "code",
   "execution_count": 3,
   "metadata": {},
   "outputs": [],
   "source": [
    "def square(turtle,side_len):\n",
    "    for n in range(4):\n",
    "        turtle.forward(side_len)\n",
    "        turtle.right(90)"
   ]
  },
  {
   "cell_type": "code",
   "execution_count": 4,
   "metadata": {},
   "outputs": [],
   "source": [
    "square(t1,100)"
   ]
  },
  {
   "cell_type": "markdown",
   "metadata": {},
   "source": [
    "What about a more general regular polygon? A square is just a regular 4-gon. Let's write a new procedure which draws a regular polygon. It should look something like this:\n",
    "```\n",
    "def poly(turtle,side_len,num_sides):\n",
    "    do things\n",
    "```\n",
    "_Warning_, our turtle library only accepts turns in integer numbers of degrees. Make sure you try it out!"
   ]
  },
  {
   "cell_type": "code",
   "execution_count": 9,
   "metadata": {},
   "outputs": [],
   "source": [
    "def poly(turtle,side_len,num_sides):\n",
    "    for n in range(num_sides):\n",
    "        turtle.forward(side_len)\n",
    "        turtle.right(360//num_sides)"
   ]
  },
  {
   "cell_type": "code",
   "execution_count": 17,
   "metadata": {},
   "outputs": [],
   "source": [
    "t1.reset()\n",
    "poly(t1,50,6)"
   ]
  },
  {
   "cell_type": "markdown",
   "metadata": {},
   "source": [
    "This is kind of fun. Try it out:"
   ]
  },
  {
   "cell_type": "code",
   "execution_count": 25,
   "metadata": {},
   "outputs": [
    {
     "data": {
      "application/vnd.jupyter.widget-view+json": {
       "model_id": "985fedc733d6479bbd2cf7eafb4c1208",
       "version_major": 2,
       "version_minor": 0
      },
      "text/html": [
       "<p>Failed to display Jupyter Widget of type <code>Turtle</code>.</p>\n",
       "<p>\n",
       "  If you're reading this message in the Jupyter Notebook or JupyterLab Notebook, it may mean\n",
       "  that the widgets JavaScript is still loading. If this message persists, it\n",
       "  likely means that the widgets JavaScript library is either not installed or\n",
       "  not enabled. See the <a href=\"https://ipywidgets.readthedocs.io/en/stable/user_install.html\">Jupyter\n",
       "  Widgets Documentation</a> for setup instructions.\n",
       "</p>\n",
       "<p>\n",
       "  If you're reading this message in another frontend (for example, a static\n",
       "  rendering on GitHub or <a href=\"https://nbviewer.jupyter.org/\">NBViewer</a>),\n",
       "  it may mean that your frontend doesn't currently support widgets.\n",
       "</p>\n"
      ],
      "text/plain": [
       "Turtle()"
      ]
     },
     "metadata": {},
     "output_type": "display_data"
    }
   ],
   "source": [
    "# create a turtle in the output area\n",
    "t2 = Turtle(fixed=False, width=320, height=240)\n",
    "t2"
   ]
  },
  {
   "cell_type": "code",
   "execution_count": 29,
   "metadata": {},
   "outputs": [],
   "source": [
    "t2.reset()\n",
    "for n in range(3,10):\n",
    "    poly(t2,50,n)"
   ]
  },
  {
   "cell_type": "markdown",
   "metadata": {},
   "source": [
    "Now that we have `poly`, can you rewrite `square` in a shorter way?"
   ]
  },
  {
   "cell_type": "code",
   "execution_count": null,
   "metadata": {},
   "outputs": [],
   "source": []
  },
  {
   "cell_type": "markdown",
   "metadata": {},
   "source": [
    "What kinds of things do you get when you draw a polygon, rotate a bit, and repeat? \n",
    "\n",
    "**Try it out.**"
   ]
  },
  {
   "cell_type": "code",
   "execution_count": null,
   "metadata": {},
   "outputs": [],
   "source": []
  },
  {
   "cell_type": "markdown",
   "metadata": {},
   "source": [
    "Can you draw a spiral?"
   ]
  },
  {
   "cell_type": "code",
   "execution_count": null,
   "metadata": {},
   "outputs": [],
   "source": []
  },
  {
   "cell_type": "code",
   "execution_count": null,
   "metadata": {},
   "outputs": [],
   "source": []
  },
  {
   "cell_type": "code",
   "execution_count": null,
   "metadata": {},
   "outputs": [],
   "source": []
  },
  {
   "cell_type": "markdown",
   "metadata": {},
   "source": [
    "Write a simple procedure which draws the capital letter Y. It should be similar to the ones above in that\n",
    "- you should have the turtle as an argument/parameter\n",
    "- you should have the scale be a parameter\n",
    "- you should have the turtle return to the original starting place at the end\n",
    "\n",
    "Call the procedure \"`draw_y`\""
   ]
  },
  {
   "cell_type": "code",
   "execution_count": null,
   "metadata": {},
   "outputs": [],
   "source": []
  },
  {
   "cell_type": "markdown",
   "metadata": {},
   "source": [
    "> Big fleas have little fleas upon their backs to bite 'em,   \n",
    "> And little fleas have lesser fleas, and so, ad infinitum.  \n",
    "> -- Augustus DeMorgan\n",
    "\n",
    "What if our Y had smaller Y's coming off of the ends of the top lines? And those Y's had smaller Y's coming off of the top of those?\n",
    "\n",
    "We can do that with _recursion_. We just need to modify our `draw_y` procedure in two ways: \n",
    "- it needs to call itself (with a reduced scale parameter) whenever you get to the tops of the Y\n",
    "- it needs to know when to give up. i.e. Draw nothing when the scale gets too small.\n",
    "\n",
    "**Write a `draw_fractal_y` procedure** which does just that."
   ]
  },
  {
   "cell_type": "code",
   "execution_count": null,
   "metadata": {},
   "outputs": [],
   "source": []
  }
 ],
 "metadata": {
  "kernelspec": {
   "display_name": "Python 3",
   "language": "python",
   "name": "python3"
  },
  "language_info": {
   "codemirror_mode": {
    "name": "ipython",
    "version": 3
   },
   "file_extension": ".py",
   "mimetype": "text/x-python",
   "name": "python",
   "nbconvert_exporter": "python",
   "pygments_lexer": "ipython3",
   "version": "3.6.4"
  }
 },
 "nbformat": 4,
 "nbformat_minor": 2
}
