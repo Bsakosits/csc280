{
 "cells": [
  {
   "cell_type": "markdown",
   "metadata": {},
   "source": [
    "# CSC280, Introduction to Computer Science I\n",
    "# Prof. Adam C. Knapp\n",
    "# A first Jupyter Notebook\n",
    "\n",
    "\n",
    "Jupyter notebooks are one of several ways to interact with the Python interpreter. A jupyter notebook consists of a series of *cells*. Cells can either contain python code or text formatted in Markdown. (There is a nice reference and tutorial for Markdown at http://commonmark.org/help/ ) \n",
    "\n",
    "What you are reading now is a markdown cell. To see the markdown code, double click in this region. To get back to the formatted version, place the cursor somewhere in the cell and press shift+enter.\n",
    "\n",
    "Great! Now let's write the traditional first program: \"Hello World\". In the code cell below, type:\n",
    "```\n",
    "print(\"Hello World\")\n",
    "```\n",
    "Python is _picky_ about spaces and indentation, so make sure that the `p` in `print` is the very first character in the line.\n",
    "\n",
    "When you are done typing in each code cell, press shift+enter to run the code."
   ]
  },
  {
   "cell_type": "code",
   "execution_count": null,
   "metadata": {},
   "outputs": [],
   "source": []
  },
  {
   "cell_type": "markdown",
   "metadata": {},
   "source": [
    "Python should reply back to you: `Hello World`\n",
    "\n",
    "Now let's try some arithmetic. Python supports all of the elementary mathematical operations: addition, subtraction, multiplication, and division.\n",
    "\n",
    "First, let's try and addition. Type\n",
    "```\n",
    "1 + 100\n",
    "```"
   ]
  },
  {
   "cell_type": "code",
   "execution_count": null,
   "metadata": {},
   "outputs": [],
   "source": []
  },
  {
   "cell_type": "markdown",
   "metadata": {},
   "source": [
    "A subtraction:\n",
    "```\n",
    "234 - 456\n",
    "```"
   ]
  },
  {
   "cell_type": "code",
   "execution_count": null,
   "metadata": {},
   "outputs": [],
   "source": []
  },
  {
   "cell_type": "markdown",
   "metadata": {},
   "source": [
    "Now, a multiplication\n",
    "```\n",
    "2 * 256\n",
    "```"
   ]
  },
  {
   "cell_type": "code",
   "execution_count": null,
   "metadata": {},
   "outputs": [],
   "source": []
  },
  {
   "cell_type": "markdown",
   "metadata": {},
   "source": [
    "Now a division:\n",
    "```\n",
    "1023 / 2\n",
    "```"
   ]
  },
  {
   "cell_type": "code",
   "execution_count": null,
   "metadata": {},
   "outputs": [],
   "source": []
  },
  {
   "cell_type": "markdown",
   "metadata": {},
   "source": [
    "Remember learning whole number long division? Back then, you learned that `22/7` was `3` with a remainer of `1`. We can do that in python as well. To get the quotient, use `//` and to get the remainder, use `%`. (The remainder is also sometimes called the _modulus_.)\n",
    "\n",
    "In the next two cells, find the quotient and remainer for 377 divided by 9."
   ]
  },
  {
   "cell_type": "code",
   "execution_count": null,
   "metadata": {},
   "outputs": [],
   "source": []
  },
  {
   "cell_type": "code",
   "execution_count": null,
   "metadata": {},
   "outputs": [],
   "source": []
  },
  {
   "cell_type": "markdown",
   "metadata": {},
   "source": [
    "You probably remember that you can't divide by zero. Try it out."
   ]
  },
  {
   "cell_type": "code",
   "execution_count": null,
   "metadata": {},
   "outputs": [],
   "source": []
  },
  {
   "cell_type": "markdown",
   "metadata": {},
   "source": [
    "What about exponentiation? That's the `**` operator. In the next cell, find the value of $3^7$."
   ]
  },
  {
   "cell_type": "code",
   "execution_count": null,
   "metadata": {},
   "outputs": [],
   "source": []
  },
  {
   "cell_type": "markdown",
   "metadata": {},
   "source": [
    "Some people like to write exponentiation using `^`, but that's **not** exponentiation in python. Try\n",
    "```\n",
    "2^3\n",
    "```"
   ]
  },
  {
   "cell_type": "code",
   "execution_count": null,
   "metadata": {},
   "outputs": [],
   "source": []
  },
  {
   "cell_type": "markdown",
   "metadata": {},
   "source": [
    "You should get `1`. Try the `^` operator on a few more whole numbers. What do you think is being computed?"
   ]
  },
  {
   "cell_type": "code",
   "execution_count": null,
   "metadata": {},
   "outputs": [],
   "source": []
  },
  {
   "cell_type": "markdown",
   "metadata": {},
   "source": [
    "What happens when you enter several computations in a cell? Try\n",
    "```\n",
    "1+1\n",
    "2*3\n",
    "```\n",
    "in a single cell below."
   ]
  },
  {
   "cell_type": "code",
   "execution_count": null,
   "metadata": {},
   "outputs": [],
   "source": []
  },
  {
   "cell_type": "markdown",
   "metadata": {},
   "source": [
    "Python actually performed both of these computations. However, only the last one got printed. If we want to see both answers, add in some `print` statements. In the cell below, try\n",
    "```\n",
    "print(1+1)\n",
    "print(2*3)\n",
    "```"
   ]
  },
  {
   "cell_type": "code",
   "execution_count": null,
   "metadata": {},
   "outputs": [],
   "source": []
  },
  {
   "cell_type": "markdown",
   "metadata": {},
   "source": [
    "What about compound statements and order of operations? What will be computed when we enter the code below?\n",
    "```\n",
    "1+2*3\n",
    "```"
   ]
  },
  {
   "cell_type": "code",
   "execution_count": null,
   "metadata": {},
   "outputs": [],
   "source": []
  },
  {
   "cell_type": "markdown",
   "metadata": {},
   "source": [
    "Can we change the code above to get `9`?"
   ]
  },
  {
   "cell_type": "code",
   "execution_count": null,
   "metadata": {},
   "outputs": [],
   "source": []
  },
  {
   "cell_type": "markdown",
   "metadata": {},
   "source": [
    "What should the code below give us? One quarter? One? What would your middle school math teacher have said? Try it out.\n",
    "```\n",
    "1/2*2\n",
    "```"
   ]
  },
  {
   "cell_type": "code",
   "execution_count": null,
   "metadata": {},
   "outputs": [],
   "source": []
  },
  {
   "cell_type": "markdown",
   "metadata": {},
   "source": [
    "Most of the usual order of operations rules work just the same in python as in usual mathematics. However, \n",
    "- addition and subtraction are at the same level of precendence\n",
    "- multiplication and division are at the same level of precedence\n",
    "- operations at the same level of precedence are evaluated from left to right"
   ]
  },
  {
   "cell_type": "markdown",
   "metadata": {},
   "source": [
    "The equals sign, `=`, in python works a bit differently than in mathematics. It is used as the variable assignment operator. \n",
    "\n",
    "Suppose that we want to compute the area of a rectangle with length `5.3` and width `24.1`. Recall that the rectangle area formula is $A=lw$. So we'll need both $l$ (length) and $w$ (width). *Let's make a variable!* Try:\n",
    "```\n",
    "length = 5.3\n",
    "```"
   ]
  },
  {
   "cell_type": "code",
   "execution_count": null,
   "metadata": {},
   "outputs": [],
   "source": []
  },
  {
   "cell_type": "markdown",
   "metadata": {},
   "source": [
    "Let's make sure that we really stored that number. Try\n",
    "```\n",
    "length\n",
    "```\n",
    "in the cell below."
   ]
  },
  {
   "cell_type": "code",
   "execution_count": null,
   "metadata": {},
   "outputs": [],
   "source": []
  },
  {
   "cell_type": "markdown",
   "metadata": {},
   "source": [
    "Now try:\n",
    "```\n",
    "length * width\n",
    "```"
   ]
  },
  {
   "cell_type": "code",
   "execution_count": null,
   "metadata": {},
   "outputs": [],
   "source": []
  },
  {
   "cell_type": "markdown",
   "metadata": {},
   "source": [
    "You should get an error! We haven't defined `width`. Let's do that now. Try\n",
    "```\n",
    "width = 24.1\n",
    "```\n",
    "and go back to, and run, the cell above. It should work now. (Notice how the cell number label changes.)"
   ]
  },
  {
   "cell_type": "code",
   "execution_count": null,
   "metadata": {},
   "outputs": [],
   "source": []
  },
  {
   "cell_type": "markdown",
   "metadata": {},
   "source": [
    "Incidentally, Python doesn't treat `=` the same way that math does. In math, `x=3` and `3=x` are _exactly the same thing_. However, in Python, the left hand and right hand side of `=` are treated differently. The left hand side must be a variable, all alone. The right hand side must be some expression which has a value. Try out the following, mathematically equivalent, statements below.\n",
    "```\n",
    "x = 2\n",
    "x + 1 = 3\n",
    "2 = x\n",
    "```"
   ]
  },
  {
   "cell_type": "code",
   "execution_count": null,
   "metadata": {},
   "outputs": [],
   "source": []
  },
  {
   "cell_type": "code",
   "execution_count": null,
   "metadata": {},
   "outputs": [],
   "source": []
  },
  {
   "cell_type": "code",
   "execution_count": null,
   "metadata": {},
   "outputs": [],
   "source": []
  },
  {
   "cell_type": "markdown",
   "metadata": {},
   "source": [
    "Here's a tricky one. What happens below? How does the value of `n` differ from the value of $n$ in the _equation_ $n=3n-1$?\n",
    "```\n",
    "n = 3\n",
    "n = 3*n - 1\n",
    "print(n)\n",
    "```"
   ]
  },
  {
   "cell_type": "code",
   "execution_count": null,
   "metadata": {},
   "outputs": [],
   "source": []
  },
  {
   "cell_type": "markdown",
   "metadata": {},
   "source": [
    "Variables can store several types of data. So far, we've seen two of them\n",
    "- integers (whole numbers) and \n",
    "- floating point numbers (numbers with decimal places).\n",
    "\n",
    "Try\n",
    "```\n",
    "print(type(1))\n",
    "print(type(1.0))\n",
    "```"
   ]
  },
  {
   "cell_type": "code",
   "execution_count": null,
   "metadata": {},
   "outputs": [],
   "source": []
  },
  {
   "cell_type": "markdown",
   "metadata": {},
   "source": [
    "Python does not think that `1` and `1.0` are the same type of things! In fact, these two kinds of numbers are stored differently in the computer. Integers are stored (internally) as binary numbers while floating point numbers are stored using a standard called [IEEE 754](https://en.wikipedia.org/wiki/IEEE_754) (well, mostly) which stores the number in a way similar to scientific notation. You should take a look at the documentation https://docs.python.org/3/tutorial/floatingpoint.html when you have some down-time --- there are some important differences between floats and decimals!\n",
    "\n",
    "We can convert numbers between different types by \"casting\" them. Try\n",
    "```\n",
    "int(3.141)\n",
    "```\n",
    "and\n",
    "```\n",
    "float(10)\n",
    "```\n",
    "in the cells below. What happens when we cast a `float` to an `int`?"
   ]
  },
  {
   "cell_type": "code",
   "execution_count": null,
   "metadata": {},
   "outputs": [],
   "source": []
  },
  {
   "cell_type": "code",
   "execution_count": null,
   "metadata": {},
   "outputs": [],
   "source": []
  },
  {
   "cell_type": "markdown",
   "metadata": {},
   "source": [
    "Python also includes a few special `float`s which aren't really numbers in the usual sense. You can get at these using `float('inf')` and `float('nan')`. They are positive infinity and \"not-a-number\", respectively. Try out some arithematic with them, below. What happens when you multiple infinity by zero, etc?"
   ]
  },
  {
   "cell_type": "code",
   "execution_count": null,
   "metadata": {},
   "outputs": [],
   "source": []
  },
  {
   "cell_type": "code",
   "execution_count": null,
   "metadata": {},
   "outputs": [],
   "source": []
  },
  {
   "cell_type": "code",
   "execution_count": null,
   "metadata": {},
   "outputs": [],
   "source": []
  },
  {
   "cell_type": "code",
   "execution_count": null,
   "metadata": {},
   "outputs": [],
   "source": []
  },
  {
   "cell_type": "markdown",
   "metadata": {},
   "source": [
    "You can also use complex numbers in python! Try out\n",
    "```\n",
    "z=complex(2,3)\n",
    "z\n",
    "```\n",
    "Notice that python uses electrical engineer notation for $\\sqrt{-1}$: `j`."
   ]
  },
  {
   "cell_type": "code",
   "execution_count": null,
   "metadata": {},
   "outputs": [],
   "source": []
  },
  {
   "cell_type": "markdown",
   "metadata": {},
   "source": [
    "Now that we have defined `z`, we can do many of the normal things to it. That includes conjugating it, etc. (Recall that conjugating a complex number means replacing $\\sqrt{-1}$ with $-\\sqrt{-1}$.) Try:\n",
    "```\n",
    "print( z.conjugate() )\n",
    "print( z * z.conjugate() )\n",
    "```\n",
    "The latter is **always** a *real* number, but is of *type* `complex`."
   ]
  },
  {
   "cell_type": "code",
   "execution_count": null,
   "metadata": {},
   "outputs": [],
   "source": []
  },
  {
   "cell_type": "markdown",
   "metadata": {},
   "source": [
    "Variable can store non-numeric types of data as well. Another important type of data is called a `string`. Strings are how we store series of characters, like someone's name, etc. Let's create a new variable called `my_name` which is equal to *your* name. I wrote:\n",
    "```\n",
    "my_name = \"Adam\"\n",
    "```\n",
    "Python let's you write strings using either single quotes (`'`) or double quotes (`\"`) but you have to begin and end with the same kind of quote."
   ]
  },
  {
   "cell_type": "code",
   "execution_count": null,
   "metadata": {},
   "outputs": [],
   "source": []
  },
  {
   "cell_type": "markdown",
   "metadata": {},
   "source": [
    "Why kind of thing does python think that `my_name` is? Try\n",
    "```\n",
    "type(my_name)\n",
    "```"
   ]
  },
  {
   "cell_type": "code",
   "execution_count": null,
   "metadata": {},
   "outputs": [],
   "source": []
  },
  {
   "cell_type": "markdown",
   "metadata": {},
   "source": [
    "When she was 4, I asked my daughter what `1+1` was and she gave me a sly smile and answered `11`. :) Well, that's how python strings work too. Let's try\n",
    "```\n",
    "one = '1'\n",
    "print(one+one)\n",
    "```\n",
    "Notice that `'1'` uses single quotes. Python doesn't care if you use single or double quotes, as long as you use the same kind at the beginning and end."
   ]
  },
  {
   "cell_type": "code",
   "execution_count": null,
   "metadata": {},
   "outputs": [],
   "source": []
  },
  {
   "cell_type": "markdown",
   "metadata": {},
   "source": [
    "Now let's try\n",
    "```\n",
    "my_name + \"is cool!\"\n",
    "```"
   ]
  },
  {
   "cell_type": "code",
   "execution_count": null,
   "metadata": {},
   "outputs": [],
   "source": []
  },
  {
   "cell_type": "markdown",
   "metadata": {},
   "source": [
    "Whoops! That doesn't look quite right. How do you fix it? By the way, this way of \"adding\" strings is called *string concatenation*."
   ]
  },
  {
   "cell_type": "code",
   "execution_count": null,
   "metadata": {},
   "outputs": [],
   "source": []
  },
  {
   "cell_type": "markdown",
   "metadata": {},
   "source": [
    "You can also ask the user for input! All you have to do it use the `input` command. (Go figure.) Let's try it out.\n",
    "```\n",
    "name = input('What\\'s your name? ')\n",
    "print('Hello, ' + name)\n",
    "```\n",
    "Notice the `\\'`. That's called an \"escaped\" character. It's there to tell Python that we mean that the string should contain a single quote. Without it Python will think that we are at the end of the string."
   ]
  },
  {
   "cell_type": "code",
   "execution_count": null,
   "metadata": {},
   "outputs": [],
   "source": []
  },
  {
   "cell_type": "markdown",
   "metadata": {},
   "source": [
    "Consider the following small program:\n",
    "```\n",
    "number = input('What number am I thinking of? ')\n",
    "print(\"Ha! No, I was thinking of\" + number + 1 + \"!\")\n",
    "```\n",
    "Why doesn't it work? Can you fix it?"
   ]
  },
  {
   "cell_type": "code",
   "execution_count": null,
   "metadata": {},
   "outputs": [],
   "source": []
  }
 ],
 "metadata": {
  "kernelspec": {
   "display_name": "Python 3",
   "language": "python",
   "name": "python3"
  },
  "language_info": {
   "codemirror_mode": {
    "name": "ipython",
    "version": 3
   },
   "file_extension": ".py",
   "mimetype": "text/x-python",
   "name": "python",
   "nbconvert_exporter": "python",
   "pygments_lexer": "ipython3",
   "version": "3.6.4"
  }
 },
 "nbformat": 4,
 "nbformat_minor": 2
}
